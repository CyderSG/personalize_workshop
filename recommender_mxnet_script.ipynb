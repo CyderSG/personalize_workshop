{
 "cells": [
  {
   "cell_type": "markdown",
   "metadata": {},
   "source": [
    "# Movie recommendation on Amazon SageMaker with Neural Networks and MXNet"
   ]
  },
  {
   "cell_type": "markdown",
   "metadata": {},
   "source": [
    "### Step SM1: Download ml-100k data  \n",
    "***The data sets are needed to train our Neural Network. We use the 100,000 movie ratings given by users from MovieLens data sets.***"
   ]
  },
  {
   "cell_type": "markdown",
   "metadata": {},
   "source": [
    "#####  The data sets are needed to train our Factorization Machine. We use the 100,000 movie ratings given by users from MovieLens data sets."
   ]
  },
  {
   "cell_type": "code",
   "execution_count": 1,
   "metadata": {},
   "outputs": [],
   "source": [
    "import os\n",
    "import mxnet as mx\n",
    "from mxnet import gluon, nd, ndarray\n",
    "\n",
    "import pandas as pd\n",
    "import numpy as np"
   ]
  },
  {
   "cell_type": "code",
   "execution_count": 2,
   "metadata": {},
   "outputs": [
    {
     "name": "stdout",
     "output_type": "stream",
     "text": [
      "arn:aws:iam::349934754982:role/service-role/AmazonSageMaker-ExecutionRole-20190123T091078\n",
      "CPU times: user 442 ms, sys: 20.2 ms, total: 463 ms\n",
      "Wall time: 481 ms\n"
     ]
    }
   ],
   "source": [
    "%%time\n",
    "import sagemaker\n",
    "from sagemaker import get_execution_role\n",
    "\n",
    "role = get_execution_role()\n",
    "print(role)\n",
    "sess = sagemaker.Session()"
   ]
  },
  {
   "cell_type": "code",
   "execution_count": 3,
   "metadata": {},
   "outputs": [
    {
     "name": "stderr",
     "output_type": "stream",
     "text": [
      "INFO:sagemaker:Created S3 bucket: sagemaker-us-east-1-349934754982\n"
     ]
    }
   ],
   "source": [
    "s3_bucket = sess.default_bucket()\n",
    "s3_prefix = 'movielens'"
   ]
  },
  {
   "cell_type": "markdown",
   "metadata": {},
   "source": [
    "### Data Information\n",
    "*ua.base : data for training*  \n",
    "*ua.test : data for test/validation*  \n",
    "*Headers/columns :* ***user id | item id | rating (1-5) | timestamp***"
   ]
  },
  {
   "cell_type": "code",
   "execution_count": 4,
   "metadata": {},
   "outputs": [
    {
     "data": {
      "text/html": [
       "<div>\n",
       "<style scoped>\n",
       "    .dataframe tbody tr th:only-of-type {\n",
       "        vertical-align: middle;\n",
       "    }\n",
       "\n",
       "    .dataframe tbody tr th {\n",
       "        vertical-align: top;\n",
       "    }\n",
       "\n",
       "    .dataframe thead th {\n",
       "        text-align: right;\n",
       "    }\n",
       "</style>\n",
       "<table border=\"1\" class=\"dataframe\">\n",
       "  <thead>\n",
       "    <tr style=\"text-align: right;\">\n",
       "      <th></th>\n",
       "      <th>USER_ID</th>\n",
       "      <th>ITEM_ID</th>\n",
       "      <th>RATING</th>\n",
       "      <th>TIMESTAMP</th>\n",
       "    </tr>\n",
       "  </thead>\n",
       "  <tbody>\n",
       "    <tr>\n",
       "      <th>0</th>\n",
       "      <td>1</td>\n",
       "      <td>1</td>\n",
       "      <td>5</td>\n",
       "      <td>874965758</td>\n",
       "    </tr>\n",
       "    <tr>\n",
       "      <th>1</th>\n",
       "      <td>1</td>\n",
       "      <td>2</td>\n",
       "      <td>3</td>\n",
       "      <td>876893171</td>\n",
       "    </tr>\n",
       "    <tr>\n",
       "      <th>...</th>\n",
       "      <td>...</td>\n",
       "      <td>...</td>\n",
       "      <td>...</td>\n",
       "      <td>...</td>\n",
       "    </tr>\n",
       "    <tr>\n",
       "      <th>90568</th>\n",
       "      <td>943</td>\n",
       "      <td>1228</td>\n",
       "      <td>3</td>\n",
       "      <td>888640275</td>\n",
       "    </tr>\n",
       "    <tr>\n",
       "      <th>90569</th>\n",
       "      <td>943</td>\n",
       "      <td>1330</td>\n",
       "      <td>3</td>\n",
       "      <td>888692465</td>\n",
       "    </tr>\n",
       "  </tbody>\n",
       "</table>\n",
       "<p>90570 rows × 4 columns</p>\n",
       "</div>"
      ],
      "text/plain": [
       "       USER_ID  ITEM_ID  RATING  TIMESTAMP\n",
       "0            1        1       5  874965758\n",
       "1            1        2       3  876893171\n",
       "...        ...      ...     ...        ...\n",
       "90568      943     1228       3  888640275\n",
       "90569      943     1330       3  888692465\n",
       "\n",
       "[90570 rows x 4 columns]"
      ]
     },
     "execution_count": 4,
     "metadata": {},
     "output_type": "execute_result"
    }
   ],
   "source": [
    "train_df = pd.read_csv('./ml-100k/ua.base', sep='\\t', names=['USER_ID', 'ITEM_ID', 'RATING', 'TIMESTAMP'])\n",
    "test_df = pd.read_csv('./ml-100k/ua.test', sep='\\t', names=['USER_ID', 'ITEM_ID', 'RATING', 'TIMESTAMP'])\n",
    "pd.set_option('display.max_rows', 5)\n",
    "train_df"
   ]
  },
  {
   "cell_type": "code",
   "execution_count": 31,
   "metadata": {},
   "outputs": [
    {
     "data": {
      "text/plain": [
       "(944, 1683)"
      ]
     },
     "execution_count": 31,
     "metadata": {},
     "output_type": "execute_result"
    }
   ],
   "source": [
    "def max_id(fname):\n",
    "    mu = 0\n",
    "    mi = 0\n",
    "    with open(fname) as f:\n",
    "        for line in f:\n",
    "            tks = line.strip().split('\\t')\n",
    "            if len(tks) != 4:\n",
    "                continue\n",
    "            mu = max(mu, int(tks[0]))\n",
    "            mi = max(mi, int(tks[1]))\n",
    "    return mu + 1, mi + 1\n",
    "max_users, max_items = max_id('./ml-100k/ua.base')\n",
    "(max_users, max_items)"
   ]
  },
  {
   "cell_type": "code",
   "execution_count": 5,
   "metadata": {},
   "outputs": [],
   "source": [
    "X_train=train_df[['USER_ID','ITEM_ID']].values\n",
    "y_train=train_df[['RATING']].values"
   ]
  },
  {
   "cell_type": "code",
   "execution_count": 6,
   "metadata": {},
   "outputs": [],
   "source": [
    "X_test=test_df[['USER_ID','ITEM_ID']].values\n",
    "y_test=test_df[['RATING']].values"
   ]
  },
  {
   "cell_type": "code",
   "execution_count": 36,
   "metadata": {},
   "outputs": [],
   "source": [
    "np.save('./data/train/train_X.npy', X_train)\n",
    "np.save('./data/train/train_Y.npy', y_train)\n",
    "np.save('./data/test/test_X.npy', X_test)\n",
    "np.save('./data/test/test_Y.npy', y_test)"
   ]
  },
  {
   "cell_type": "code",
   "execution_count": 56,
   "metadata": {},
   "outputs": [
    {
     "name": "stderr",
     "output_type": "stream",
     "text": [
      "/home/ec2-user/anaconda3/envs/mxnet_p36/lib/python3.6/site-packages/mxnet/visualization.py:263: RuntimeWarning: There are multiple variables with the same name in your graph, this may result in cyclic graph. Repeated names: mfnet8_dropout0_fwd\n",
      "  warnings.warn(warning_message, RuntimeWarning)\n"
     ]
    },
    {
     "data": {
      "image/svg+xml": [
       "<?xml version=\"1.0\" encoding=\"UTF-8\" standalone=\"no\"?>\n",
       "<!DOCTYPE svg PUBLIC \"-//W3C//DTD SVG 1.1//EN\"\n",
       " \"http://www.w3.org/Graphics/SVG/1.1/DTD/svg11.dtd\">\n",
       "<!-- Generated by graphviz version 2.40.1 (20161225.0304)\n",
       " -->\n",
       "<!-- Title: plot Pages: 1 -->\n",
       "<svg width=\"342pt\" height=\"442pt\"\n",
       " viewBox=\"0.00 0.00 342.00 442.00\" xmlns=\"http://www.w3.org/2000/svg\" xmlns:xlink=\"http://www.w3.org/1999/xlink\">\n",
       "<g id=\"graph0\" class=\"graph\" transform=\"scale(1 1) rotate(0) translate(4 438)\">\n",
       "<title>plot</title>\n",
       "<polygon fill=\"#ffffff\" stroke=\"transparent\" points=\"-4,4 -4,-438 338,-438 338,4 -4,4\"/>\n",
       "<!-- user -->\n",
       "<g id=\"node1\" class=\"node\">\n",
       "<title>user</title>\n",
       "<ellipse fill=\"#8dd3c7\" stroke=\"#000000\" cx=\"79\" cy=\"-29\" rx=\"47\" ry=\"29\"/>\n",
       "<text text-anchor=\"middle\" x=\"79\" y=\"-25.3\" font-family=\"Times,serif\" font-size=\"14.00\" fill=\"#000000\">user</text>\n",
       "</g>\n",
       "<!-- mfnet8_embedding0_fwd -->\n",
       "<g id=\"node2\" class=\"node\">\n",
       "<title>mfnet8_embedding0_fwd</title>\n",
       "<polygon fill=\"#fccde5\" stroke=\"#000000\" points=\"158,-152 0,-152 0,-94 158,-94 158,-152\"/>\n",
       "<text text-anchor=\"middle\" x=\"79\" y=\"-119.3\" font-family=\"Times,serif\" font-size=\"14.00\" fill=\"#000000\">mfnet8_embedding0_fwd</text>\n",
       "</g>\n",
       "<!-- mfnet8_embedding0_fwd&#45;&gt;user -->\n",
       "<g id=\"edge1\" class=\"edge\">\n",
       "<title>mfnet8_embedding0_fwd&#45;&gt;user</title>\n",
       "<path fill=\"none\" stroke=\"#000000\" d=\"M79,-83.6321C79,-75.1148 79,-66.2539 79,-58.2088\"/>\n",
       "<polygon fill=\"#000000\" stroke=\"#000000\" points=\"79,-93.7731 74.5001,-83.773 79,-88.7731 79.0001,-83.7731 79.0001,-83.7731 79.0001,-83.7731 79,-88.7731 83.5001,-83.7731 79,-93.7731 79,-93.7731\"/>\n",
       "</g>\n",
       "<!-- mfnet8_dropout0_fwd -->\n",
       "<g id=\"node3\" class=\"node\">\n",
       "<title>mfnet8_dropout0_fwd</title>\n",
       "<polygon fill=\"#fccde5\" stroke=\"#000000\" points=\"236.5,-246 97.5,-246 97.5,-188 236.5,-188 236.5,-246\"/>\n",
       "<text text-anchor=\"middle\" x=\"167\" y=\"-213.3\" font-family=\"Times,serif\" font-size=\"14.00\" fill=\"#000000\">mfnet8_dropout0_fwd</text>\n",
       "</g>\n",
       "<!-- mfnet8_dropout0_fwd&#45;&gt;mfnet8_embedding0_fwd -->\n",
       "<g id=\"edge2\" class=\"edge\">\n",
       "<title>mfnet8_dropout0_fwd&#45;&gt;mfnet8_embedding0_fwd</title>\n",
       "<path fill=\"none\" stroke=\"#000000\" d=\"M132.7606,-180.4261C124.0037,-171.0721 114.7036,-161.138 106.3444,-152.2088\"/>\n",
       "<polygon fill=\"#000000\" stroke=\"#000000\" points=\"139.6386,-187.7731 129.5192,-183.5483 136.2215,-184.123 132.8044,-180.4728 132.8044,-180.4728 132.8044,-180.4728 136.2215,-184.123 136.0895,-177.3974 139.6386,-187.7731 139.6386,-187.7731\"/>\n",
       "</g>\n",
       "<!-- mfnet8_embedding1_fwd -->\n",
       "<g id=\"node5\" class=\"node\">\n",
       "<title>mfnet8_embedding1_fwd</title>\n",
       "<polygon fill=\"#fccde5\" stroke=\"#000000\" points=\"334,-152 176,-152 176,-94 334,-94 334,-152\"/>\n",
       "<text text-anchor=\"middle\" x=\"255\" y=\"-119.3\" font-family=\"Times,serif\" font-size=\"14.00\" fill=\"#000000\">mfnet8_embedding1_fwd</text>\n",
       "</g>\n",
       "<!-- mfnet8_dropout0_fwd&#45;&gt;mfnet8_embedding1_fwd -->\n",
       "<g id=\"edge4\" class=\"edge\">\n",
       "<title>mfnet8_dropout0_fwd&#45;&gt;mfnet8_embedding1_fwd</title>\n",
       "<path fill=\"none\" stroke=\"#000000\" d=\"M201.2394,-180.4261C209.9963,-171.0721 219.2964,-161.138 227.6556,-152.2088\"/>\n",
       "<polygon fill=\"#000000\" stroke=\"#000000\" points=\"194.3614,-187.7731 197.9105,-177.3974 197.7785,-184.123 201.1956,-180.4728 201.1956,-180.4728 201.1956,-180.4728 197.7785,-184.123 204.4808,-183.5483 194.3614,-187.7731 194.3614,-187.7731\"/>\n",
       "</g>\n",
       "<!-- item -->\n",
       "<g id=\"node4\" class=\"node\">\n",
       "<title>item</title>\n",
       "<ellipse fill=\"#8dd3c7\" stroke=\"#000000\" cx=\"255\" cy=\"-29\" rx=\"47\" ry=\"29\"/>\n",
       "<text text-anchor=\"middle\" x=\"255\" y=\"-25.3\" font-family=\"Times,serif\" font-size=\"14.00\" fill=\"#000000\">item</text>\n",
       "</g>\n",
       "<!-- mfnet8_embedding1_fwd&#45;&gt;item -->\n",
       "<g id=\"edge3\" class=\"edge\">\n",
       "<title>mfnet8_embedding1_fwd&#45;&gt;item</title>\n",
       "<path fill=\"none\" stroke=\"#000000\" d=\"M255,-83.6321C255,-75.1148 255,-66.2539 255,-58.2088\"/>\n",
       "<polygon fill=\"#000000\" stroke=\"#000000\" points=\"255,-93.7731 250.5001,-83.773 255,-88.7731 255.0001,-83.7731 255.0001,-83.7731 255.0001,-83.7731 255,-88.7731 259.5001,-83.7731 255,-93.7731 255,-93.7731\"/>\n",
       "</g>\n",
       "<!-- _mul5 -->\n",
       "<g id=\"node6\" class=\"node\">\n",
       "<title>_mul5</title>\n",
       "<polygon fill=\"#fccde5\" stroke=\"#000000\" points=\"214,-340 120,-340 120,-282 214,-282 214,-340\"/>\n",
       "<text text-anchor=\"middle\" x=\"167\" y=\"-307.3\" font-family=\"Times,serif\" font-size=\"14.00\" fill=\"#000000\">_mul5</text>\n",
       "</g>\n",
       "<!-- _mul5&#45;&gt;mfnet8_dropout0_fwd -->\n",
       "<g id=\"edge5\" class=\"edge\">\n",
       "<title>_mul5&#45;&gt;mfnet8_dropout0_fwd</title>\n",
       "<path fill=\"none\" stroke=\"#000000\" d=\"M160.3297,-271.6321C160.1504,-263.1148 160.2736,-254.2539 160.6996,-246.2088\"/>\n",
       "<polygon fill=\"#000000\" stroke=\"#000000\" points=\"160.6987,-281.7731 155.838,-271.9433 160.5168,-276.7764 160.335,-271.7797 160.335,-271.7797 160.335,-271.7797 160.5168,-276.7764 164.832,-271.6161 160.6987,-281.7731 160.6987,-281.7731\"/>\n",
       "</g>\n",
       "<!-- _mul5&#45;&gt;mfnet8_dropout0_fwd -->\n",
       "<g id=\"edge6\" class=\"edge\">\n",
       "<title>_mul5&#45;&gt;mfnet8_dropout0_fwd</title>\n",
       "<path fill=\"none\" stroke=\"#000000\" d=\"M173.6703,-271.6321C173.8496,-263.1148 173.7264,-254.2539 173.3004,-246.2088\"/>\n",
       "<polygon fill=\"#000000\" stroke=\"#000000\" points=\"173.3013,-281.7731 169.168,-271.6161 173.4832,-276.7764 173.665,-271.7797 173.665,-271.7797 173.665,-271.7797 173.4832,-276.7764 178.162,-271.9433 173.3013,-281.7731 173.3013,-281.7731\"/>\n",
       "</g>\n",
       "<!-- sum1 -->\n",
       "<g id=\"node7\" class=\"node\">\n",
       "<title>sum1</title>\n",
       "<polygon fill=\"#fccde5\" stroke=\"#000000\" points=\"214,-434 120,-434 120,-376 214,-376 214,-434\"/>\n",
       "<text text-anchor=\"middle\" x=\"167\" y=\"-401.3\" font-family=\"Times,serif\" font-size=\"14.00\" fill=\"#000000\">sum1</text>\n",
       "</g>\n",
       "<!-- sum1&#45;&gt;_mul5 -->\n",
       "<g id=\"edge7\" class=\"edge\">\n",
       "<title>sum1&#45;&gt;_mul5</title>\n",
       "<path fill=\"none\" stroke=\"#000000\" d=\"M167,-365.6321C167,-357.1148 167,-348.2539 167,-340.2088\"/>\n",
       "<polygon fill=\"#000000\" stroke=\"#000000\" points=\"167,-375.7731 162.5001,-365.773 167,-370.7731 167.0001,-365.7731 167.0001,-365.7731 167.0001,-365.7731 167,-370.7731 171.5001,-365.7731 167,-375.7731 167,-375.7731\"/>\n",
       "</g>\n",
       "</g>\n",
       "</svg>\n"
      ],
      "text/plain": [
       "<graphviz.dot.Digraph at 0x7f561c8ae978>"
      ]
     },
     "execution_count": 56,
     "metadata": {},
     "output_type": "execute_result"
    }
   ],
   "source": [
    "class MFNet(gluon.HybridBlock):\n",
    "    def __init__(self, max_users, max_items, num_emb, dropout_p=0.5):\n",
    "        super(MFNet, self).__init__()\n",
    "        \n",
    "        self.max_users = max_users\n",
    "        self.max_items = max_items\n",
    "        self.dropout_p = dropout_p\n",
    "        self.num_emb = num_emb\n",
    "        \n",
    "        with self.name_scope():\n",
    "            self.user_embeddings = gluon.nn.Embedding(max_users, num_emb)\n",
    "            self.item_embeddings = gluon.nn.Embedding(max_items, num_emb)\n",
    "            self.dropout = gluon.nn.Dropout(dropout_p)\n",
    "            \n",
    "    def forward(self, users, items):\n",
    "        a = self.user_embeddings(users)\n",
    "        b = self.item_embeddings(items)\n",
    "        predictions = self.dropout(a) * self.dropout(b)      \n",
    "        predictions = mx.sym.sum(predictions, axis=1)\n",
    "        return predictions\n",
    "    \n",
    "   \n",
    "net1 = MFNet(max_users, max_items, 64)\n",
    "net1.initialize(mx.init.Xavier(), ctx=ctx)\n",
    "mx.viz.plot_network(net1(mx.sym.var('user'), mx.sym.var('item')), node_attrs={\"fixedsize\":\"false\"})"
   ]
  },
  {
   "cell_type": "code",
   "execution_count": 13,
   "metadata": {},
   "outputs": [
    {
     "name": "stdout",
     "output_type": "stream",
     "text": [
      "mkdir: cannot create directory ‘./data/’: File exists\r\n"
     ]
    }
   ],
   "source": [
    "mkdir ./data/ ./data/train ./data/test"
   ]
  },
  {
   "cell_type": "code",
   "execution_count": 14,
   "metadata": {},
   "outputs": [],
   "source": [
    "np.save('./data/train/train_X.npy', X_train)\n",
    "np.save('./data/train/train_Y.npy', y_train)\n",
    "np.save('./data/test/test_X.npy', X_test)\n",
    "np.save('./data/test/test_Y.npy', y_test)"
   ]
  },
  {
   "cell_type": "code",
   "execution_count": 37,
   "metadata": {},
   "outputs": [],
   "source": [
    "traindata_s3_prefix = '{}/data/train'.format(s3_prefix)\n",
    "testdata_s3_prefix = '{}/data/test'.format(s3_prefix)\n",
    "output_s3 = 's3://{}/{}/models/'.format(s3_bucket, s3_prefix)\n",
    "code_location_s3 = 's3://{}/{}/codes'.format(s3_bucket, s3_prefix)"
   ]
  },
  {
   "cell_type": "code",
   "execution_count": 38,
   "metadata": {},
   "outputs": [],
   "source": [
    "train_s3 = sess.upload_data(path='./data/train/', bucket=s3_bucket, key_prefix=traindata_s3_prefix)\n",
    "test_s3 = sess.upload_data(path='./data/test/', bucket=s3_bucket, key_prefix=testdata_s3_prefix)"
   ]
  },
  {
   "cell_type": "code",
   "execution_count": 39,
   "metadata": {},
   "outputs": [],
   "source": [
    "inputs = {'train':train_s3, 'test': test_s3}"
   ]
  },
  {
   "cell_type": "code",
   "execution_count": 40,
   "metadata": {},
   "outputs": [],
   "source": [
    "from sagemaker.mxnet import MXNet"
   ]
  },
  {
   "cell_type": "code",
   "execution_count": 63,
   "metadata": {},
   "outputs": [],
   "source": [
    "import json\n",
    "params=json.dumps({'batch-size': 32,'epochs': 10,'learning-rate': 0.1,'embedding-size':32,'max-users':max_users,'max-items':max_items})"
   ]
  },
  {
   "cell_type": "code",
   "execution_count": null,
   "metadata": {},
   "outputs": [],
   "source": [
    "params[]"
   ]
  },
  {
   "cell_type": "code",
   "execution_count": 82,
   "metadata": {},
   "outputs": [
    {
     "name": "stderr",
     "output_type": "stream",
     "text": [
      "INFO:sagemaker:Created S3 bucket: sagemaker-us-east-1-349934754982\n",
      "INFO:sagemaker:Creating training-job with name: sagemaker-mxnet-2019-03-03-19-18-33-524\n"
     ]
    },
    {
     "name": "stdout",
     "output_type": "stream",
     "text": [
      "2019-03-03 19:18:33 Starting - Starting the training job...\n",
      "2019-03-03 19:18:35 Starting - Launching requested ML instances......\n",
      "2019-03-03 19:19:44 Starting - Preparing the instances for training......\n",
      "2019-03-03 19:20:53 Downloading - Downloading input data\n",
      "2019-03-03 19:20:53 Training - Downloading the training image.\n",
      "\u001b[31m2019-03-03 19:20:58,563 sagemaker-containers INFO     Imported framework sagemaker_mxnet_container.training\u001b[0m\n",
      "\u001b[31m2019-03-03 19:20:58,567 sagemaker-containers INFO     No GPUs detected (normal if no gpus installed)\u001b[0m\n",
      "\u001b[31m2019-03-03 19:20:58,592 sagemaker_mxnet_container.training INFO     MXNet training environment: {'SM_MODEL_DIR': '/opt/ml/model', 'SM_NUM_GPUS': '0', 'SM_INPUT_DATA_CONFIG': '{\"test\":{\"RecordWrapperType\":\"None\",\"S3DistributionType\":\"FullyReplicated\",\"TrainingInputMode\":\"File\"},\"train\":{\"RecordWrapperType\":\"None\",\"S3DistributionType\":\"FullyReplicated\",\"TrainingInputMode\":\"File\"}}', 'SM_CHANNEL_TEST': '/opt/ml/input/data/test', 'SM_HOSTS': '[\"algo-1\"]', 'SM_INPUT_DIR': '/opt/ml/input', 'SM_TRAINING_ENV': '{\"additional_framework_parameters\":{},\"channel_input_dirs\":{\"test\":\"/opt/ml/input/data/test\",\"train\":\"/opt/ml/input/data/train\"},\"current_host\":\"algo-1\",\"framework_module\":\"sagemaker_mxnet_container.training:main\",\"hosts\":[\"algo-1\"],\"hyperparameters\":{\"batch-size\":32,\"embedding-size\":32,\"epochs\":10,\"learning-rate\":0.1,\"max-items\":1683,\"max-users\":944},\"input_config_dir\":\"/opt/ml/input/config\",\"input_data_config\":{\"test\":{\"RecordWrapperType\":\"None\",\"S3DistributionType\":\"FullyReplicated\",\"TrainingInputMode\":\"File\"},\"train\":{\"RecordWrapperType\":\"None\",\"S3DistributionType\":\"FullyReplicated\",\"TrainingInputMode\":\"File\"}},\"input_dir\":\"/opt/ml/input\",\"is_master\":true,\"job_name\":\"sagemaker-mxnet-2019-03-03-19-18-33-524\",\"log_level\":20,\"master_hostname\":\"algo-1\",\"model_dir\":\"/opt/ml/model\",\"module_dir\":\"s3://sagemaker-us-east-1-349934754982/sagemaker-mxnet-2019-03-03-19-18-33-524/source/sourcedir.tar.gz\",\"module_name\":\"train\",\"network_interface_name\":\"ethwe\",\"num_cpus\":4,\"num_gpus\":0,\"output_data_dir\":\"/opt/ml/output/data\",\"output_dir\":\"/opt/ml/output\",\"output_intermediate_dir\":\"/opt/ml/output/intermediate\",\"resource_config\":{\"current_host\":\"algo-1\",\"hosts\":[\"algo-1\"],\"network_interface_name\":\"ethwe\"},\"user_entry_point\":\"train.py\"}', 'SM_OUTPUT_DATA_DIR': '/opt/ml/output/data', 'SM_MODULE_NAME': 'train', 'SM_HP_EPOCHS': '10', 'SM_HP_EMBEDDING-SIZE': '32', 'SM_FRAMEWORK_MODULE': 'sagemaker_mxnet_container.training:main', 'SM_INPUT_CONFIG_DIR': '/opt/ml/input/config', 'SM_MODULE_DIR': 's3:\u001b[0m\n",
      "\u001b[31m2019-03-03 19:20:58,887 sagemaker-containers INFO     Module train does not provide a setup.py. \u001b[0m\n",
      "\u001b[31mGenerating setup.py\u001b[0m\n",
      "\u001b[31m2019-03-03 19:20:58,888 sagemaker-containers INFO     Generating setup.cfg\u001b[0m\n",
      "\u001b[31m2019-03-03 19:20:58,888 sagemaker-containers INFO     Generating MANIFEST.in\u001b[0m\n",
      "\u001b[31m2019-03-03 19:20:58,888 sagemaker-containers INFO     Installing module with the following command:\u001b[0m\n",
      "\u001b[31m/usr/bin/python -m pip install -U . \u001b[0m\n",
      "\u001b[31mProcessing /opt/ml/code\u001b[0m\n",
      "\u001b[31mBuilding wheels for collected packages: train\n",
      "  Running setup.py bdist_wheel for train: started\u001b[0m\n",
      "\u001b[31m  Running setup.py bdist_wheel for train: finished with status 'done'\n",
      "  Stored in directory: /tmp/pip-ephem-wheel-cache-mpmdeytk/wheels/35/24/16/37574d11bf9bde50616c67372a334f94fa8356bc7164af8ca3\u001b[0m\n",
      "\u001b[31mSuccessfully built train\u001b[0m\n",
      "\u001b[31mInstalling collected packages: train\u001b[0m\n",
      "\u001b[31mSuccessfully installed train-1.0.0\u001b[0m\n",
      "\u001b[31mYou are using pip version 18.1, however version 19.0.3 is available.\u001b[0m\n",
      "\u001b[31mYou should consider upgrading via the 'pip install --upgrade pip' command.\u001b[0m\n",
      "\u001b[31m2019-03-03 19:21:00,424 sagemaker-containers INFO     No GPUs detected (normal if no gpus installed)\u001b[0m\n",
      "\u001b[31m2019-03-03 19:21:00,439 sagemaker-containers INFO     Invoking user script\n",
      "\u001b[0m\n",
      "\u001b[31mTraining Env:\n",
      "\u001b[0m\n",
      "\u001b[31m{\n",
      "    \"input_config_dir\": \"/opt/ml/input/config\",\n",
      "    \"model_dir\": \"/opt/ml/model\",\n",
      "    \"module_name\": \"train\",\n",
      "    \"resource_config\": {\n",
      "        \"hosts\": [\n",
      "            \"algo-1\"\n",
      "        ],\n",
      "        \"current_host\": \"algo-1\",\n",
      "        \"network_interface_name\": \"ethwe\"\n",
      "    },\n",
      "    \"num_gpus\": 0,\n",
      "    \"input_dir\": \"/opt/ml/input\",\n",
      "    \"channel_input_dirs\": {\n",
      "        \"train\": \"/opt/ml/input/data/train\",\n",
      "        \"test\": \"/opt/ml/input/data/test\"\n",
      "    },\n",
      "    \"output_dir\": \"/opt/ml/output\",\n",
      "    \"num_cpus\": 4,\n",
      "    \"is_master\": true,\n",
      "    \"output_data_dir\": \"/opt/ml/output/data\",\n",
      "    \"framework_module\": \"sagemaker_mxnet_container.training:main\",\n",
      "    \"hyperparameters\": {\n",
      "        \"max-users\": 944,\n",
      "        \"epochs\": 10,\n",
      "        \"embedding-size\": 32,\n",
      "        \"learning-rate\": 0.1,\n",
      "        \"batch-size\": 32,\n",
      "        \"max-items\": 1683\n",
      "    },\n",
      "    \"additional_framework_parameters\": {},\n",
      "    \"master_hostname\": \"algo-1\",\n",
      "    \"output_intermediate_dir\": \"/opt/ml/output/intermediate\",\n",
      "    \"module_dir\": \"s3://sagemaker-us-east-1-349934754982/sagemaker-mxnet-2019-03-03-19-18-33-524/source/sourcedir.tar.gz\",\n",
      "    \"log_level\": 20,\n",
      "    \"network_interface_name\": \"ethwe\",\n",
      "    \"job_name\": \"sagemaker-mxnet-2019-03-03-19-18-33-524\",\n",
      "    \"input_data_config\": {\n",
      "        \"train\": {\n",
      "            \"S3DistributionType\": \"FullyReplicated\",\n",
      "            \"RecordWrapperType\": \"None\",\n",
      "            \"TrainingInputMode\": \"File\"\n",
      "        },\n",
      "        \"test\": {\n",
      "            \"S3DistributionType\": \"FullyReplicated\",\n",
      "            \"RecordWrapperType\": \"None\",\n",
      "            \"TrainingInputMode\": \"File\"\n",
      "        }\n",
      "    },\n",
      "    \"hosts\": [\n",
      "        \"algo-1\"\n",
      "    ],\n",
      "    \"current_host\": \"algo-1\",\n",
      "    \"user_entry_point\": \"train.py\"\u001b[0m\n",
      "\u001b[31m}\n",
      "\u001b[0m\n",
      "\u001b[31mEnvironment variables:\n",
      "\u001b[0m\n",
      "\u001b[31mSM_MODEL_DIR=/opt/ml/model\u001b[0m\n",
      "\u001b[31mSM_NUM_GPUS=0\u001b[0m\n",
      "\u001b[31mSM_OUTPUT_INTERMEDIATE_DIR=/opt/ml/output/intermediate\u001b[0m\n",
      "\u001b[31mSM_CHANNEL_TEST=/opt/ml/input/data/test\u001b[0m\n",
      "\u001b[31mSM_OUTPUT_DIR=/opt/ml/output\u001b[0m\n",
      "\u001b[31mSM_INPUT_CONFIG_DIR=/opt/ml/input/config\u001b[0m\n",
      "\u001b[31mSM_TRAINING_ENV={\"additional_framework_parameters\":{},\"channel_input_dirs\":{\"test\":\"/opt/ml/input/data/test\",\"train\":\"/opt/ml/input/data/train\"},\"current_host\":\"algo-1\",\"framework_module\":\"sagemaker_mxnet_container.training:main\",\"hosts\":[\"algo-1\"],\"hyperparameters\":{\"batch-size\":32,\"embedding-size\":32,\"epochs\":10,\"learning-rate\":0.1,\"max-items\":1683,\"max-users\":944},\"input_config_dir\":\"/opt/ml/input/config\",\"input_data_config\":{\"test\":{\"RecordWrapperType\":\"None\",\"S3DistributionType\":\"FullyReplicated\",\"TrainingInputMode\":\"File\"},\"train\":{\"RecordWrapperType\":\"None\",\"S3DistributionType\":\"FullyReplicated\",\"TrainingInputMode\":\"File\"}},\"input_dir\":\"/opt/ml/input\",\"is_master\":true,\"job_name\":\"sagemaker-mxnet-2019-03-03-19-18-33-524\",\"log_level\":20,\"master_hostname\":\"algo-1\",\"model_dir\":\"/opt/ml/model\",\"module_dir\":\"s3://sagemaker-us-east-1-349934754982/sagemaker-mxnet-2019-03-03-19-18-33-524/source/sourcedir.tar.gz\",\"module_name\":\"train\",\"network_interface_name\":\"ethwe\",\"num_cpus\":4,\"num_gpus\":0,\"output_data_dir\":\"/opt/ml/output/data\",\"output_dir\":\"/opt/ml/output\",\"output_intermediate_dir\":\"/opt/ml/output/intermediate\",\"resource_config\":{\"current_host\":\"algo-1\",\"hosts\":[\"algo-1\"],\"network_interface_name\":\"ethwe\"},\"user_entry_point\":\"train.py\"}\u001b[0m\n",
      "\u001b[31mSM_OUTPUT_DATA_DIR=/opt/ml/output/data\u001b[0m\n",
      "\u001b[31mSM_MODULE_NAME=train\u001b[0m\n",
      "\u001b[31mSM_HP_EPOCHS=10\u001b[0m\n",
      "\u001b[31mSM_HP_EMBEDDING-SIZE=32\u001b[0m\n",
      "\u001b[31mSM_FRAMEWORK_MODULE=sagemaker_mxnet_container.training:main\u001b[0m\n",
      "\u001b[31mSM_INPUT_DIR=/opt/ml/input\u001b[0m\n",
      "\u001b[31mPYTHONPATH=/usr/local/bin:/usr/lib/python35.zip:/usr/lib/python3.5:/usr/lib/python3.5/plat-x86_64-linux-gnu:/usr/lib/python3.5/lib-dynload:/usr/local/lib/python3.5/dist-packages:/usr/lib/python3/dist-packages\u001b[0m\n",
      "\u001b[31mSM_MODULE_DIR=s3://sagemaker-us-east-1-349934754982/sagemaker-mxnet-2019-03-03-19-18-33-524/source/sourcedir.tar.gz\u001b[0m\n",
      "\u001b[31mSM_HP_MAX-ITEMS=1683\u001b[0m\n",
      "\u001b[31mSM_RESOURCE_CONFIG={\"current_host\":\"algo-1\",\"hosts\":[\"algo-1\"],\"network_interface_name\":\"ethwe\"}\u001b[0m\n",
      "\u001b[31mSM_CHANNEL_TRAIN=/opt/ml/input/data/train\u001b[0m\n",
      "\u001b[31mSM_NUM_CPUS=4\u001b[0m\n",
      "\u001b[31mSM_FRAMEWORK_PARAMS={}\u001b[0m\n",
      "\u001b[31mSM_LOG_LEVEL=20\u001b[0m\n",
      "\u001b[31mSM_HP_MAX-USERS=944\u001b[0m\n",
      "\u001b[31mSM_HPS={\"batch-size\":32,\"embedding-size\":32,\"epochs\":10,\"learning-rate\":0.1,\"max-items\":1683,\"max-users\":944}\u001b[0m\n",
      "\u001b[31mSM_INPUT_DATA_CONFIG={\"test\":{\"RecordWrapperType\":\"None\",\"S3DistributionType\":\"FullyReplicated\",\"TrainingInputMode\":\"File\"},\"train\":{\"RecordWrapperType\":\"None\",\"S3DistributionType\":\"FullyReplicated\",\"TrainingInputMode\":\"File\"}}\u001b[0m\n",
      "\u001b[31mSM_CHANNELS=[\"test\",\"train\"]\u001b[0m\n",
      "\u001b[31mSM_HOSTS=[\"algo-1\"]\u001b[0m\n",
      "\u001b[31mSM_HP_BATCH-SIZE=32\u001b[0m\n",
      "\u001b[31mSM_USER_ARGS=[\"--batch-size\",\"32\",\"--embedding-size\",\"32\",\"--epochs\",\"10\",\"--learning-rate\",\"0.1\",\"--max-items\",\"1683\",\"--max-users\",\"944\"]\u001b[0m\n",
      "\u001b[31mSM_NETWORK_INTERFACE_NAME=ethwe\u001b[0m\n",
      "\u001b[31mSM_CURRENT_HOST=algo-1\u001b[0m\n",
      "\u001b[31mSM_HP_LEARNING-RATE=0.1\u001b[0m\n",
      "\u001b[31mSM_USER_ENTRY_POINT=train.py\n",
      "\u001b[0m\n",
      "\u001b[31mInvoking script with the following command:\n",
      "\u001b[0m\n",
      "\u001b[31m/usr/bin/python -m train --batch-size 32 --embedding-size 32 --epochs 10 --learning-rate 0.1 --max-items 1683 --max-users 944\n",
      "\n",
      "\u001b[0m\n",
      "\u001b[31m{'batch-size': 32, 'learning-rate': 0.1, 'max-items': 1683, 'max-users': 944, 'embedding-size': 32, 'epochs': 10}\u001b[0m\n",
      "\u001b[31mepoch: 0\u001b[0m\n"
     ]
    },
    {
     "name": "stdout",
     "output_type": "stream",
     "text": [
      "\n",
      "2019-03-03 19:21:06 Training - Training image download completed. Training in progress.\u001b[31mEPOCH 0: RMSE ON TRAINING and TEST: 1.1252351704290358. 0.989341813888031\u001b[0m\n",
      "\u001b[31mepoch: 1\u001b[0m\n",
      "\u001b[31mEPOCH 1: RMSE ON TRAINING and TEST: 1.0031465023250903. 0.936087139606139\u001b[0m\n",
      "\u001b[31mepoch: 2\u001b[0m\n",
      "\u001b[31mEPOCH 2: RMSE ON TRAINING and TEST: 0.9845669178639428. 0.8950961152600214\u001b[0m\n",
      "\u001b[31mepoch: 3\u001b[0m\n",
      "\u001b[31mEPOCH 3: RMSE ON TRAINING and TEST: 0.9637280385373003. 0.8384792989574528\u001b[0m\n",
      "\u001b[31mepoch: 4\u001b[0m\n",
      "\u001b[31mEPOCH 4: RMSE ON TRAINING and TEST: 0.9678241907540014. 0.787247534208355\u001b[0m\n",
      "\u001b[31mepoch: 5\u001b[0m\n",
      "\u001b[31mEPOCH 5: RMSE ON TRAINING and TEST: 0.9630974030090591. 0.7384571821413374\u001b[0m\n",
      "\u001b[31mepoch: 6\u001b[0m\n",
      "\u001b[31mEPOCH 6: RMSE ON TRAINING and TEST: 0.9744493848186428. 0.7047448303749182\u001b[0m\n",
      "\u001b[31mepoch: 7\u001b[0m\n",
      "\u001b[31mEPOCH 7: RMSE ON TRAINING and TEST: 0.9868324112083953. 0.6673069271949524\u001b[0m\n",
      "\u001b[31mepoch: 8\u001b[0m\n",
      "\u001b[31mEPOCH 8: RMSE ON TRAINING and TEST: 1.0018961880166652. 0.6486358289392707\u001b[0m\n",
      "\u001b[31mepoch: 9\u001b[0m\n",
      "\n",
      "2019-03-03 19:31:32 Uploading - Uploading generated training model\n",
      "2019-03-03 19:31:32 Failed - Training job failed\n",
      "\u001b[31mEPOCH 9: RMSE ON TRAINING and TEST: 1.0150510454581956. 0.6337723395336815\u001b[0m\n",
      "\u001b[31mTraceback (most recent call last):\n",
      "  File \"/usr/lib/python3.5/runpy.py\", line 184, in _run_module_as_main\n",
      "    \"__main__\", mod_spec)\n",
      "  File \"/usr/lib/python3.5/runpy.py\", line 85, in _run_code\n",
      "    exec(code, run_globals)\n",
      "  File \"/opt/ml/code/train.py\", line 142, in <module>\n",
      "    model.export('%s/model'% args.model_dir, epoch=epochs)\n",
      "  File \"/usr/local/lib/python3.5/dist-packages/mxnet/gluon/block.py\", line 886, in export\n",
      "    \"Please first call block.hybridize() and then run forward with \"\u001b[0m\n",
      "\u001b[31mRuntimeError: Please first call block.hybridize() and then run forward with this block at least once before calling export.\u001b[0m\n",
      "\u001b[31m2019-03-03 19:31:30,520 sagemaker-containers ERROR    ExecuteUserScriptError:\u001b[0m\n",
      "\u001b[31mCommand \"/usr/bin/python -m train --batch-size 32 --embedding-size 32 --epochs 10 --learning-rate 0.1 --max-items 1683 --max-users 944\"\u001b[0m\n"
     ]
    },
    {
     "ename": "ValueError",
     "evalue": "Error for Training job sagemaker-mxnet-2019-03-03-19-18-33-524: Failed Reason: AlgorithmError: ExecuteUserScriptError:\nCommand \"/usr/bin/python -m train --batch-size 32 --embedding-size 32 --epochs 10 --learning-rate 0.1 --max-items 1683 --max-users 944\"",
     "output_type": "error",
     "traceback": [
      "\u001b[0;31m---------------------------------------------------------------------------\u001b[0m",
      "\u001b[0;31mValueError\u001b[0m                                Traceback (most recent call last)",
      "\u001b[0;32m<ipython-input-82-f9afa01dd767>\u001b[0m in \u001b[0;36m<module>\u001b[0;34m()\u001b[0m\n\u001b[1;32m      6\u001b[0m                         \u001b[0mpy_version\u001b[0m\u001b[0;34m=\u001b[0m\u001b[0;34m'py3'\u001b[0m\u001b[0;34m,\u001b[0m\u001b[0;34m\u001b[0m\u001b[0m\n\u001b[1;32m      7\u001b[0m                         hyperparameters={'batch-size': 32,'epochs': 10,'learning-rate': 0.1,'embedding-size':32,'max-users':max_users,'max-items':max_items})\n\u001b[0;32m----> 8\u001b[0;31m \u001b[0mmxnet_estimator\u001b[0m\u001b[0;34m.\u001b[0m\u001b[0mfit\u001b[0m\u001b[0;34m(\u001b[0m\u001b[0minputs\u001b[0m\u001b[0;34m)\u001b[0m\u001b[0;34m\u001b[0m\u001b[0m\n\u001b[0m",
      "\u001b[0;32m~/anaconda3/envs/mxnet_p36/lib/python3.6/site-packages/sagemaker/estimator.py\u001b[0m in \u001b[0;36mfit\u001b[0;34m(self, inputs, wait, logs, job_name)\u001b[0m\n\u001b[1;32m    236\u001b[0m         \u001b[0mself\u001b[0m\u001b[0;34m.\u001b[0m\u001b[0mlatest_training_job\u001b[0m \u001b[0;34m=\u001b[0m \u001b[0m_TrainingJob\u001b[0m\u001b[0;34m.\u001b[0m\u001b[0mstart_new\u001b[0m\u001b[0;34m(\u001b[0m\u001b[0mself\u001b[0m\u001b[0;34m,\u001b[0m \u001b[0minputs\u001b[0m\u001b[0;34m)\u001b[0m\u001b[0;34m\u001b[0m\u001b[0m\n\u001b[1;32m    237\u001b[0m         \u001b[0;32mif\u001b[0m \u001b[0mwait\u001b[0m\u001b[0;34m:\u001b[0m\u001b[0;34m\u001b[0m\u001b[0m\n\u001b[0;32m--> 238\u001b[0;31m             \u001b[0mself\u001b[0m\u001b[0;34m.\u001b[0m\u001b[0mlatest_training_job\u001b[0m\u001b[0;34m.\u001b[0m\u001b[0mwait\u001b[0m\u001b[0;34m(\u001b[0m\u001b[0mlogs\u001b[0m\u001b[0;34m=\u001b[0m\u001b[0mlogs\u001b[0m\u001b[0;34m)\u001b[0m\u001b[0;34m\u001b[0m\u001b[0m\n\u001b[0m\u001b[1;32m    239\u001b[0m \u001b[0;34m\u001b[0m\u001b[0m\n\u001b[1;32m    240\u001b[0m     \u001b[0;32mdef\u001b[0m \u001b[0m_compilation_job_name\u001b[0m\u001b[0;34m(\u001b[0m\u001b[0mself\u001b[0m\u001b[0;34m)\u001b[0m\u001b[0;34m:\u001b[0m\u001b[0;34m\u001b[0m\u001b[0m\n",
      "\u001b[0;32m~/anaconda3/envs/mxnet_p36/lib/python3.6/site-packages/sagemaker/estimator.py\u001b[0m in \u001b[0;36mwait\u001b[0;34m(self, logs)\u001b[0m\n\u001b[1;32m    586\u001b[0m     \u001b[0;32mdef\u001b[0m \u001b[0mwait\u001b[0m\u001b[0;34m(\u001b[0m\u001b[0mself\u001b[0m\u001b[0;34m,\u001b[0m \u001b[0mlogs\u001b[0m\u001b[0;34m=\u001b[0m\u001b[0;32mTrue\u001b[0m\u001b[0;34m)\u001b[0m\u001b[0;34m:\u001b[0m\u001b[0;34m\u001b[0m\u001b[0m\n\u001b[1;32m    587\u001b[0m         \u001b[0;32mif\u001b[0m \u001b[0mlogs\u001b[0m\u001b[0;34m:\u001b[0m\u001b[0;34m\u001b[0m\u001b[0m\n\u001b[0;32m--> 588\u001b[0;31m             \u001b[0mself\u001b[0m\u001b[0;34m.\u001b[0m\u001b[0msagemaker_session\u001b[0m\u001b[0;34m.\u001b[0m\u001b[0mlogs_for_job\u001b[0m\u001b[0;34m(\u001b[0m\u001b[0mself\u001b[0m\u001b[0;34m.\u001b[0m\u001b[0mjob_name\u001b[0m\u001b[0;34m,\u001b[0m \u001b[0mwait\u001b[0m\u001b[0;34m=\u001b[0m\u001b[0;32mTrue\u001b[0m\u001b[0;34m)\u001b[0m\u001b[0;34m\u001b[0m\u001b[0m\n\u001b[0m\u001b[1;32m    589\u001b[0m         \u001b[0;32melse\u001b[0m\u001b[0;34m:\u001b[0m\u001b[0;34m\u001b[0m\u001b[0m\n\u001b[1;32m    590\u001b[0m             \u001b[0mself\u001b[0m\u001b[0;34m.\u001b[0m\u001b[0msagemaker_session\u001b[0m\u001b[0;34m.\u001b[0m\u001b[0mwait_for_job\u001b[0m\u001b[0;34m(\u001b[0m\u001b[0mself\u001b[0m\u001b[0;34m.\u001b[0m\u001b[0mjob_name\u001b[0m\u001b[0;34m)\u001b[0m\u001b[0;34m\u001b[0m\u001b[0m\n",
      "\u001b[0;32m~/anaconda3/envs/mxnet_p36/lib/python3.6/site-packages/sagemaker/session.py\u001b[0m in \u001b[0;36mlogs_for_job\u001b[0;34m(self, job_name, wait, poll)\u001b[0m\n\u001b[1;32m   1168\u001b[0m \u001b[0;34m\u001b[0m\u001b[0m\n\u001b[1;32m   1169\u001b[0m         \u001b[0;32mif\u001b[0m \u001b[0mwait\u001b[0m\u001b[0;34m:\u001b[0m\u001b[0;34m\u001b[0m\u001b[0m\n\u001b[0;32m-> 1170\u001b[0;31m             \u001b[0mself\u001b[0m\u001b[0;34m.\u001b[0m\u001b[0m_check_job_status\u001b[0m\u001b[0;34m(\u001b[0m\u001b[0mjob_name\u001b[0m\u001b[0;34m,\u001b[0m \u001b[0mdescription\u001b[0m\u001b[0;34m,\u001b[0m \u001b[0;34m'TrainingJobStatus'\u001b[0m\u001b[0;34m)\u001b[0m\u001b[0;34m\u001b[0m\u001b[0m\n\u001b[0m\u001b[1;32m   1171\u001b[0m             \u001b[0;32mif\u001b[0m \u001b[0mdot\u001b[0m\u001b[0;34m:\u001b[0m\u001b[0;34m\u001b[0m\u001b[0m\n\u001b[1;32m   1172\u001b[0m                 \u001b[0mprint\u001b[0m\u001b[0;34m(\u001b[0m\u001b[0;34m)\u001b[0m\u001b[0;34m\u001b[0m\u001b[0m\n",
      "\u001b[0;32m~/anaconda3/envs/mxnet_p36/lib/python3.6/site-packages/sagemaker/session.py\u001b[0m in \u001b[0;36m_check_job_status\u001b[0;34m(self, job, desc, status_key_name)\u001b[0m\n\u001b[1;32m    868\u001b[0m             \u001b[0mreason\u001b[0m \u001b[0;34m=\u001b[0m \u001b[0mdesc\u001b[0m\u001b[0;34m.\u001b[0m\u001b[0mget\u001b[0m\u001b[0;34m(\u001b[0m\u001b[0;34m'FailureReason'\u001b[0m\u001b[0;34m,\u001b[0m \u001b[0;34m'(No reason provided)'\u001b[0m\u001b[0;34m)\u001b[0m\u001b[0;34m\u001b[0m\u001b[0m\n\u001b[1;32m    869\u001b[0m             \u001b[0mjob_type\u001b[0m \u001b[0;34m=\u001b[0m \u001b[0mstatus_key_name\u001b[0m\u001b[0;34m.\u001b[0m\u001b[0mreplace\u001b[0m\u001b[0;34m(\u001b[0m\u001b[0;34m'JobStatus'\u001b[0m\u001b[0;34m,\u001b[0m \u001b[0;34m' job'\u001b[0m\u001b[0;34m)\u001b[0m\u001b[0;34m\u001b[0m\u001b[0m\n\u001b[0;32m--> 870\u001b[0;31m             \u001b[0;32mraise\u001b[0m \u001b[0mValueError\u001b[0m\u001b[0;34m(\u001b[0m\u001b[0;34m'Error for {} {}: {} Reason: {}'\u001b[0m\u001b[0;34m.\u001b[0m\u001b[0mformat\u001b[0m\u001b[0;34m(\u001b[0m\u001b[0mjob_type\u001b[0m\u001b[0;34m,\u001b[0m \u001b[0mjob\u001b[0m\u001b[0;34m,\u001b[0m \u001b[0mstatus\u001b[0m\u001b[0;34m,\u001b[0m \u001b[0mreason\u001b[0m\u001b[0;34m)\u001b[0m\u001b[0;34m)\u001b[0m\u001b[0;34m\u001b[0m\u001b[0m\n\u001b[0m\u001b[1;32m    871\u001b[0m \u001b[0;34m\u001b[0m\u001b[0m\n\u001b[1;32m    872\u001b[0m     \u001b[0;32mdef\u001b[0m \u001b[0mwait_for_endpoint\u001b[0m\u001b[0;34m(\u001b[0m\u001b[0mself\u001b[0m\u001b[0;34m,\u001b[0m \u001b[0mendpoint\u001b[0m\u001b[0;34m,\u001b[0m \u001b[0mpoll\u001b[0m\u001b[0;34m=\u001b[0m\u001b[0;36m5\u001b[0m\u001b[0;34m)\u001b[0m\u001b[0;34m:\u001b[0m\u001b[0;34m\u001b[0m\u001b[0m\n",
      "\u001b[0;31mValueError\u001b[0m: Error for Training job sagemaker-mxnet-2019-03-03-19-18-33-524: Failed Reason: AlgorithmError: ExecuteUserScriptError:\nCommand \"/usr/bin/python -m train --batch-size 32 --embedding-size 32 --epochs 10 --learning-rate 0.1 --max-items 1683 --max-users 944\""
     ]
    }
   ],
   "source": [
    "mxnet_estimator = MXNet('train.py',\n",
    "                        role=role,\n",
    "                        train_instance_type='ml.c4.xlarge',\n",
    "                        train_instance_count=1,\n",
    "                        framework_version='1.3.0',\n",
    "                        py_version='py3',\n",
    "                        hyperparameters={'batch-size': 32,'epochs': 10,'learning-rate': 0.1,'embedding-size':32,'max-users':max_users,'max-items':max_items})\n",
    "mxnet_estimator.fit(inputs)"
   ]
  },
  {
   "cell_type": "code",
   "execution_count": 100,
   "metadata": {},
   "outputs": [],
   "source": [
    "def eval_net(data, net):\n",
    "    acc = mx.metric.RMSE()\n",
    "    for i, (user, item, label) in enumerate(data):\n",
    "        user = user.as_in_context(ctx).reshape((len(user),))\n",
    "        item = item.as_in_context(ctx).reshape((len(user),))\n",
    "        label = label.as_in_context(ctx).reshape((len(user),))\n",
    "        predictions = net(user, item)\n",
    "        loss = loss_function(predictions, label)\n",
    "        acc.update(preds=predictions, labels=label)\n",
    "    90570%batch_size\n",
    "    return acc.get()[1]"
   ]
  },
  {
   "cell_type": "code",
   "execution_count": 72,
   "metadata": {},
   "outputs": [
    {
     "data": {
      "text/plain": [
       "3.6948865924526633"
      ]
     },
     "execution_count": 72,
     "metadata": {},
     "output_type": "execute_result"
    }
   ],
   "source": [
    "eval_net(train_data_iter, net)"
   ]
  },
  {
   "cell_type": "code",
   "execution_count": 86,
   "metadata": {},
   "outputs": [
    {
     "data": {
      "text/plain": [
       "(944, 1683)"
      ]
     },
     "execution_count": 86,
     "metadata": {},
     "output_type": "execute_result"
    }
   ],
   "source": [
    "ratings = nd.dot(net.user_embeddings.weight.data(ctx=ctx), net.item_embeddings.weight.data(ctx=ctx).T).asnumpy()\n",
    "ratings.shape"
   ]
  },
  {
   "cell_type": "code",
   "execution_count": 93,
   "metadata": {},
   "outputs": [
    {
     "data": {
      "text/plain": [
       "\n",
       "[ 0.08441807]\n",
       "<NDArray 1 @cpu(0)>"
      ]
     },
     "execution_count": 93,
     "metadata": {},
     "output_type": "execute_result"
    }
   ],
   "source": [
    "net.forward(mx.nd.array([0]),mx.nd.array([1]))"
   ]
  },
  {
   "cell_type": "code",
   "execution_count": 90,
   "metadata": {},
   "outputs": [
    {
     "data": {
      "text/plain": [
       "0.084418066"
      ]
     },
     "execution_count": 90,
     "metadata": {},
     "output_type": "execute_result"
    }
   ],
   "source": [
    "ratings[0,1]"
   ]
  },
  {
   "cell_type": "code",
   "execution_count": 90,
   "metadata": {},
   "outputs": [
    {
     "data": {
      "text/plain": [
       "0.084418066"
      ]
     },
     "execution_count": 90,
     "metadata": {},
     "output_type": "execute_result"
    }
   ],
   "source": [
    "ratings[0,1]"
   ]
  },
  {
   "cell_type": "code",
   "execution_count": null,
   "metadata": {},
   "outputs": [],
   "source": []
  }
 ],
 "metadata": {
  "kernelspec": {
   "display_name": "conda_mxnet_p36",
   "language": "python",
   "name": "conda_mxnet_p36"
  },
  "language_info": {
   "codemirror_mode": {
    "name": "ipython",
    "version": 3
   },
   "file_extension": ".py",
   "mimetype": "text/x-python",
   "name": "python",
   "nbconvert_exporter": "python",
   "pygments_lexer": "ipython3",
   "version": "3.6.5"
  }
 },
 "nbformat": 4,
 "nbformat_minor": 2
}
